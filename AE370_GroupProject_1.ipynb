{
 "cells": [
  {
   "cell_type": "code",
   "execution_count": 1,
   "id": "b2f0e555-6271-4f22-ac58-e584359be161",
   "metadata": {},
   "outputs": [],
   "source": [
    "#AE370 Group Project 1"
   ]
  }
 ],
 "metadata": {
  "kernelspec": {
   "display_name": "Python 3 (ipykernel)",
   "language": "python",
   "name": "python3"
  },
  "language_info": {
   "codemirror_mode": {
    "name": "ipython",
    "version": 3
   },
   "file_extension": ".py",
   "mimetype": "text/x-python",
   "name": "python",
   "nbconvert_exporter": "python",
   "pygments_lexer": "ipython3",
   "version": "3.9.13"
  }
 },
 "nbformat": 4,
 "nbformat_minor": 5
}
